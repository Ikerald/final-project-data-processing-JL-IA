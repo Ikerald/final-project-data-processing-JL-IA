{
 "cells": [
  {
   "cell_type": "markdown",
   "metadata": {
    "slideshow": {
     "slide_type": "slide"
    }
   },
   "source": [
    "\n",
    "# Final Project"
   ]
  },
  {
   "cell_type": "code",
   "execution_count": 27,
   "metadata": {
    "slideshow": {
     "slide_type": "slide"
    }
   },
   "outputs": [],
   "source": [
    "import matplotlib.pyplot as plt\n",
    "import pandas as pd\n",
    "import numpy as np\n",
    "from sklearn.model_selection import train_test_split\n",
    "from sklearn.preprocessing import LabelEncoder\n",
    "\n",
    "import torch\n",
    "import torch.nn as nn\n",
    "import torch.nn.functional as F\n",
    "import torchvision"
   ]
  },
  {
   "cell_type": "code",
   "execution_count": null,
   "metadata": {},
   "outputs": [],
   "source": [
    "# Reading JSON and separating elements.\n",
    "db = pd.read_json(\"../data/full_format_recipes.json\")\n",
    "\n",
    "directions = db[\"directions\"]\n",
    "fat = db[\"fat\"]\n",
    "date = db[\"date\"]\n",
    "categories = db[\"categories\"]\n",
    "calories = db[\"calories\"]\n",
    "desc = db[\"desc\"]\n",
    "ingredients = db[\"ingredientes\"]\n",
    "protein = db[\"protein\"]\n",
    "rating = db[\"rating\"]  # Output variable\n",
    "title = db[\"title\"]\n",
    "sodium = db[\"sodium\"]\n",
    "\n",
    "\n",
    "# In the Back of Words (BOW) we do some text processing to delete words with no deep meaning\n",
    "# Tools: SPACY (recomended) / GENSIM ---- How to access vector of words\n",
    "# TF IDF (tutorial available)\n",
    "# Word embedding ==> Every word in the vocabulary will compose a vector (first map words into vectors)\n",
    "# Contextual embeddings ==> More complex, Neural Networks to compute them\n"
   ]
  },
  {
   "cell_type": "code",
   "execution_count": null,
   "metadata": {},
   "outputs": [],
   "source": [
    "print(directions)"
   ]
  }
 ],
 "metadata": {
  "anaconda-cloud": {},
  "celltoolbar": "Slideshow",
  "kernelspec": {
   "display_name": ".venv",
   "language": "python",
   "name": "python3"
  },
  "language_info": {
   "codemirror_mode": {
    "name": "ipython",
    "version": 3
   },
   "file_extension": ".py",
   "mimetype": "text/x-python",
   "name": "python",
   "nbconvert_exporter": "python",
   "pygments_lexer": "ipython3",
   "version": "3.12.6"
  }
 },
 "nbformat": 4,
 "nbformat_minor": 4
}
